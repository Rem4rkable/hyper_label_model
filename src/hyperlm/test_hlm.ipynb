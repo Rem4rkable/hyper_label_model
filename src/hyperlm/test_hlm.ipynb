{
 "cells": [
  {
   "cell_type": "code",
   "execution_count": 1,
   "metadata": {},
   "outputs": [],
   "source": [
    "import argparse\n",
    "\n",
    "magic_dataset_path = r\"C:\\Users\\ARiEL\\OneDrive\\Desktop\\Projects\\Thesis\\Uri\\RBMpaper\\datasets\\real\\magic\\magic_block_1.mat\"\n",
    "dream_dataset_path = r\"C:\\Users\\ARiEL\\OneDrive\\Desktop\\Projects\\Thesis\\Uri\\RBMpaper\\datasets\\real\\Dream\\S1_data.mat\"\n",
    "lg_path = r\"C:\\Users\\ARiEL\\OneDrive\\Desktop\\Projects\\Thesis\\Uri\\RBMpaper\\datasets\\simulated\\LG\\dataset1.mat\"\n",
    "tg_path = r\"C:\\Users\\ARiEL\\OneDrive\\Desktop\\Projects\\Thesis\\Uri\\RBMpaper\\datasets\\simulated\\TG\\dataset1.mat\"\n",
    "tree_path = \"C:\\\\Users\\\\ARiEL\\\\OneDrive\\\\Desktop\\\\Projects\\\\Thesis\\\\Uri\\\\RBMpaper\\\\datasets\\\\simulated\\\\Tree\\\\dataset1.mat\"\n",
    "tree3D_path = \"C:\\\\Users\\\\ARiEL\\\\OneDrive\\\\Desktop\\\\Projects\\\\Thesis\\\\Uri\\\\RBMpaper\\\\datasets\\\\simulated\\\\Tree3D\\\\dataset1.mat\"\n",
    "test_path = \"C:\\\\Users\\\\ARiEL\\\\OneDrive\\\\Desktop\\\\Projects\\\\Thesis\\\\Uri\\\\rbm_python\\\\data\\\\test_tree_data.mat\"\n",
    "\n",
    "mfeat_mixed_clf_path = r\"C:\\Users\\ARiEL\\OneDrive\\Desktop\\Projects\\Thesis\\Uri\\RBMpaper\\datasets\\mfeat\\mixed_clf_dataset.mat\"\n",
    "\n",
    "condind_path = r\"C:\\Users\\ariel\\OneDrive\\Desktop\\Projects\\Thesis\\Uri\\rbm_python\\datasets\\condInd3K.mat\"\n",
    "tree3k_path = r\"C:\\Users\\ariel\\OneDrive\\Desktop\\Projects\\Thesis\\Uri\\rbm_python\\datasets\\tree3k.mat\"\n",
    "mniste_path = r\"C:\\Users\\ariel\\OneDrive\\Desktop\\Projects\\Thesis\\Uri\\rbm_python\\datasets\\mnist_e_v1.mat\"\n",
    "hs3_val_path = r\"C:\\Users\\ARiEL\\OneDrive\\Desktop\\Projects\\Thesis\\Uri\\RBMpaper\\datasets\\multimodal\\hs3_with_val.mat\"\n",
    "mixedclf_path = r\"C:\\Users\\ariel\\OneDrive\\Desktop\\Projects\\Thesis\\Uri\\rbm_python\\datasets\\mixed_clf_dataset.mat\"\n",
    "nnt_path = r\"C:\\Users\\ariel\\OneDrive\\Desktop\\Projects\\Thesis\\Uri\\rbm_python\\datasets\\NeuralNetTorch_dataset.mat\"\n",
    "c2boost_path = r\"C:\\Users\\ariel\\OneDrive\\Desktop\\Projects\\Thesis\\Uri\\rbm_python\\datasets\\cardinality_exp2_boosting.mat\"\n",
    "c2comp_path = r\"C:\\Users\\ariel\\OneDrive\\Desktop\\Projects\\Thesis\\Uri\\rbm_python\\datasets\\cardinality_exp2_complement.mat\"\n",
    "\n",
    "\n",
    "import argparse\n",
    "\n",
    "class Args(argparse.Namespace):\n",
    "    def __init__(self, data_path=None):\n",
    "        super().__init__()\n",
    "        self.save_dir = r\"C:\\Users\\ARiEL\\OneDrive\\Desktop\\Projects\\Thesis\\Uri\\rbm_python\\Saved\"\n",
    "        self.data_path = data_path\n",
    "        self.batch_size = 32\n",
    "        self.seed = 1\n",
    "        self.patience = 5\n",
    "        self.max_epochs = 20\n",
    "        self.init_lr = 1e-3\n",
    "        self.peak_lr = 1e-3\n",
    "        self.final_lr = 1e-3\n",
    "        self.init_mom = 0.5\n",
    "        self.peak_mom = 0.9\n",
    "        self.final_mom = 0.5\n"
   ]
  },
  {
   "cell_type": "code",
   "execution_count": 1,
   "metadata": {},
   "outputs": [
    {
     "name": "stdout",
     "output_type": "stream",
     "text": [
      " Volume in drive C has no label.\n",
      " Volume Serial Number is 4AEF-BE21\n",
      "\n",
      " Directory of c:\\Users\\ariel\\OneDrive\\Desktop\\Projects\\Thesis\\Uri\\Benchmarks\\hyper_label_model\\src\\hyperlm\n",
      "\n",
      "07/24/2024  09:31 AM    <DIR>          .\n",
      "07/23/2024  03:38 PM    <DIR>          ..\n",
      "07/23/2024  03:38 PM                46 __init__.py\n",
      "07/24/2024  09:33 AM    <DIR>          __pycache__\n",
      "07/23/2024  03:38 PM           128,529 checkpoint.pt\n",
      "07/24/2024  09:33 AM            14,272 hyper_label_model.py\n",
      "07/23/2024  03:38 PM             1,235 loss.py\n",
      "01/26/2025  10:03 AM             8,266 test_hlm.ipynb\n",
      "               5 File(s)        152,348 bytes\n",
      "               3 Dir(s)  1,265,687,650,304 bytes free\n"
     ]
    }
   ],
   "source": [
    "ls"
   ]
  },
  {
   "cell_type": "code",
   "execution_count": 3,
   "metadata": {},
   "outputs": [],
   "source": [
    "from hyper_label_model import HyperLabelModel\n",
    "hlm = HyperLabelModel()\n"
   ]
  },
  {
   "cell_type": "code",
   "execution_count": 4,
   "metadata": {},
   "outputs": [],
   "source": [
    "args = Args(data_path=condind_path)\n",
    "train,val, test = load_from_mat(args)"
   ]
  },
  {
   "cell_type": "code",
   "execution_count": 5,
   "metadata": {},
   "outputs": [],
   "source": [
    "y = hlm.infer(val[0])"
   ]
  },
  {
   "cell_type": "code",
   "execution_count": 6,
   "metadata": {},
   "outputs": [
    {
     "data": {
      "text/plain": [
       "0.3373734375"
      ]
     },
     "execution_count": 6,
     "metadata": {},
     "output_type": "execute_result"
    }
   ],
   "source": [
    "np.mean(y == val[1])"
   ]
  },
  {
   "cell_type": "code",
   "execution_count": 7,
   "metadata": {},
   "outputs": [],
   "source": [
    "from hyper_label_model import HyperLabelModel\n",
    "import numpy as np\n",
    "\n",
    "# Define the data paths\n",
    "data_paths = {\n",
    "    \"Condind\": condind_path,\n",
    "    \"Tree3k\": tree3k_path,\n",
    "    \"Mniste\": mniste_path,\n",
    "    \"HS3_Val\": hs3_val_path,\n",
    "    \"MixedClf\": mixedclf_path,\n",
    "    \"NNT\": nnt_path,\n",
    "    \"C2Boost\": c2boost_path,\n",
    "    \"C2Comp\": c2comp_path\n",
    "}"
   ]
  },
  {
   "cell_type": "code",
   "execution_count": 9,
   "metadata": {},
   "outputs": [
    {
     "name": "stdout",
     "output_type": "stream",
     "text": [
      "Condind Test Accuracy: 33.24%\n",
      "Tree3k Test Accuracy: 33.33%\n",
      "Mniste Test Accuracy: 10.06%\n",
      "HS3_Val Test Accuracy: 49.47%\n",
      "MixedClf Test Accuracy: 10.16%\n",
      "NNT Test Accuracy: 10.16%\n",
      "C2Boost Test Accuracy: 19.99%\n",
      "C2Comp Test Accuracy: 19.92%\n"
     ]
    }
   ],
   "source": [
    "# Function to load data and calculate accuracy\n",
    "def calculate_accuracy(data_path, label):\n",
    "    hlm = HyperLabelModel()\n",
    "    args = Args(data_path=data_path)\n",
    "    train, val, test = load_from_mat(args)\n",
    "    \n",
    "    # Calculate accuracy on validation set\n",
    "    y_val = hlm.infer(val[0])\n",
    "    val_acc = np.mean(y_val == val[1])\n",
    "    \n",
    "    # Calculate accuracy on test set\n",
    "    y_test = hlm.infer(test[0])\n",
    "    test_acc = np.mean(y_test == test[1])\n",
    "    \n",
    "    #print(f\"{label} Validation Accuracy: {val_acc:.2%}\")\n",
    "    print(f\"{label} Test Accuracy: {test_acc:.2%}\")\n",
    "\n",
    "# Loop over each data path and calculate accuracy\n",
    "for label, path in data_paths.items():\n",
    "    if path:  # Ensure the path is not empty or None\n",
    "        calculate_accuracy(path, label)\n",
    "    else:\n",
    "        print(f\"{label} path is not specified.\")"
   ]
  },
  {
   "cell_type": "code",
   "execution_count": 10,
   "metadata": {},
   "outputs": [
    {
     "name": "stdout",
     "output_type": "stream",
     "text": [
      "Condind Test Accuracy: 33.24%\n",
      "Tree3k Test Accuracy: 33.34%\n",
      "Mniste Test Accuracy: 10.06%\n",
      "HS3_Val Test Accuracy: 50.48%\n",
      "MixedClf Test Accuracy: 10.18%\n",
      "NNT Test Accuracy: 10.16%\n",
      "C2Boost Test Accuracy: 19.93%\n",
      "C2Comp Test Accuracy: 20.17%\n"
     ]
    }
   ],
   "source": [
    "# Function to load data, concatenate, infer, and calculate test accuracy\n",
    "def calculate_accuracy(data_path, label):\n",
    "    hlm = HyperLabelModel()\n",
    "    args = Args(data_path=data_path)\n",
    "    train, val, test = load_from_mat(args)\n",
    "    \n",
    "    # Concatenate all data\n",
    "    all_data = np.concatenate((train[0], val[0], test[0]), axis=0)\n",
    "    \n",
    "    # Infer using all data\n",
    "    y_all = hlm.infer(all_data)\n",
    "    \n",
    "    # Calculate accuracy on test set\n",
    "    test_size = test[0].shape[0]\n",
    "    y_test = y_all[-test_size:]  # Get the last 'test_size' predictions\n",
    "    test_acc = np.mean(y_test == test[1])\n",
    "    \n",
    "    print(f\"{label} Test Accuracy: {test_acc:.2%}\")\n",
    "\n",
    "# Loop over each data path and calculate accuracy\n",
    "for label, path in data_paths.items():\n",
    "    if path:  # Ensure the path is not empty or None\n",
    "        calculate_accuracy(path, label)\n",
    "    else:\n",
    "        print(f\"{label} path is not specified.\")"
   ]
  }
 ],
 "metadata": {
  "kernelspec": {
   "display_name": "rbm-python",
   "language": "python",
   "name": "python3"
  },
  "language_info": {
   "codemirror_mode": {
    "name": "ipython",
    "version": 3
   },
   "file_extension": ".py",
   "mimetype": "text/x-python",
   "name": "python",
   "nbconvert_exporter": "python",
   "pygments_lexer": "ipython3",
   "version": "3.11.9"
  }
 },
 "nbformat": 4,
 "nbformat_minor": 2
}
